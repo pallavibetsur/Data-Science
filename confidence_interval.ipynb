{
 "cells": [
  {
   "cell_type": "markdown",
   "id": "3c42fda6-63d6-447c-a52e-287b88cc51cc",
   "metadata": {},
   "source": [
    "In quality control processes, especially when dealing with high-value items, destructive sampling is a necessary but costly method to ensure product quality. The test to determine whether an item meets the quality standards destroys the item, leading to the requirement of small sample sizes due to cost constraints."
   ]
  },
  {
   "cell_type": "markdown",
   "id": "0e96c6c5-8a55-4646-bee6-157cac084263",
   "metadata": {},
   "source": [
    "Scenario\n",
    "\n",
    "A manufacturer of print-heads for personal computers is interested in estimating the mean durability of their print-heads in terms of the number of characters printed before failure. To assess this, the manufacturer conducts a study on a small sample of print-heads due to the destructive nature of the testing process.\n"
   ]
  },
  {
   "cell_type": "markdown",
   "id": "0f3787c0-d41e-4037-a476-d7fb4b72f651",
   "metadata": {},
   "source": [
    "A total of 15 print-heads were randomly selected and tested until failure. The durability of each print-head (in millions of characters) was recorded as follows:\n",
    "1.13, 1.55, 1.43, 0.92, 1.25, 1.36, 1.32, 0.85, 1.07, 1.48, 1.20, 1.33, 1.18, 1.22, 1.29\n"
   ]
  },
  {
   "cell_type": "code",
   "execution_count": 36,
   "id": "b180e041-8332-4c9a-8d47-ba17ab1e9fd3",
   "metadata": {},
   "outputs": [],
   "source": [
    "import pandas as pd\n",
    "import numpy as np\n",
    "import statistics\n",
    "from scipy import stats"
   ]
  },
  {
   "cell_type": "code",
   "execution_count": 37,
   "id": "06bb17dd-d7cb-4502-8313-65ae647599d8",
   "metadata": {},
   "outputs": [
    {
     "name": "stdout",
     "output_type": "stream",
     "text": [
      "1.2386666666666666\n",
      "0.19316412956959936\n"
     ]
    }
   ],
   "source": [
    "n=15\n",
    "data = [1.13, 1.55, 1.43, 0.92, 1.25, 1.36, 1.32, 0.85, 1.07, 1.48, 1.20, 1.33, 1.18, 1.22, 1.29]\n",
    "sample_mean = np.mean(data)\n",
    "sample_std = np.std(data,ddof=1)\n",
    "alpha = 0.01\n",
    "df = n-1\n",
    "print(sample_mean)\n",
    "print(sample_std)"
   ]
  },
  {
   "cell_type": "markdown",
   "id": "4ae9d9b7-42e2-4d36-ae42-ee020f6f254d",
   "metadata": {},
   "source": [
    " #### a. Build 99% Confidence Interval Using Sample Standard Deviation Assuming the sample is representative of the population, construct a 99% confidence interval for the mean number of characters printed before the print-head fails using the sample standard deviation. Explain the steps you take and the rationale behind using the t-distribution for this task.\n"
   ]
  },
  {
   "cell_type": "code",
   "execution_count": 40,
   "id": "cff02af5-4b82-4c3e-b428-6ab0c8232b3b",
   "metadata": {},
   "outputs": [
    {
     "name": "stdout",
     "output_type": "stream",
     "text": [
      "Sample mean = 1.238667\n",
      "Sample std (s) = 0.193164\n",
      "t_crit (df=14) = 2.976843\n",
      "Standard error = 0.049875\n",
      "Margin of error = 0.148469\n",
      "99% CI = (1.090, 1.387) million characters\n"
     ]
    }
   ],
   "source": [
    "t_critical = stats.t.ppf(1- alpha/2,df)\n",
    "se = sample_std /np.sqrt(n)\n",
    "me = t_critical * se\n",
    "ci = (sample_mean - me , sample_mean + me)\n",
    "print(f\"Sample mean = {sample_mean:.6f}\")\n",
    "print(f\"Sample std (s) = {sample_std:.6f}\")\n",
    "print(f\"t_crit (df={df}) = {t_critical:.6f}\")\n",
    "print(f\"Standard error = {se:.6f}\")\n",
    "print(f\"Margin of error = {me:.6f}\")\n",
    "print(f\"99% CI = ({ci[0]:.3f}, {ci[1]:.3f}) million characters\")"
   ]
  },
  {
   "cell_type": "markdown",
   "id": "84120a6b-f04a-4459-9e3b-7267566ed3ff",
   "metadata": {},
   "source": [
    "#### b. Build 99% Confidence Interval Using Known Population Standard Deviation If it were known that the population standard deviation is 0.2 million characters, construct a 99% confidence interval for the mean number of characters printed before failure."
   ]
  },
  {
   "cell_type": "code",
   "execution_count": 44,
   "id": "9e1d0503-dee7-42fb-98d1-83e5d6b6871c",
   "metadata": {},
   "outputs": [],
   "source": [
    "pop_std = 0.2 \n",
    "z_critical =stats.norm.ppf(1- alpha/2)\n",
    "CI = (sample_mean - z_critical* (pop_std /np.sqrt(n)),sample_mean + z_critical* (pop_std /np.sqrt(n)))"
   ]
  },
  {
   "cell_type": "code",
   "execution_count": 52,
   "id": "2a3ca8fc-8a1c-4e68-879e-7af4b8ae2376",
   "metadata": {},
   "outputs": [
    {
     "name": "stdout",
     "output_type": "stream",
     "text": [
      "z_critical = 2.575829\n",
      "99% CI = (1.090197, 1.387136) million characters\n"
     ]
    }
   ],
   "source": [
    "print(f\"z_critical = {z_critical:.6f}\")\n",
    "print(f\"99% CI = ({ci[0]:.6f}, {ci[1]:.6f}) million characters\")"
   ]
  },
  {
   "cell_type": "code",
   "execution_count": null,
   "id": "ceb5b55c-1f6a-4551-aa34-0ff554e51fcd",
   "metadata": {},
   "outputs": [],
   "source": []
  }
 ],
 "metadata": {
  "kernelspec": {
   "display_name": "Python 3 (ipykernel)",
   "language": "python",
   "name": "python3"
  },
  "language_info": {
   "codemirror_mode": {
    "name": "ipython",
    "version": 3
   },
   "file_extension": ".py",
   "mimetype": "text/x-python",
   "name": "python",
   "nbconvert_exporter": "python",
   "pygments_lexer": "ipython3",
   "version": "3.13.5"
  }
 },
 "nbformat": 4,
 "nbformat_minor": 5
}
