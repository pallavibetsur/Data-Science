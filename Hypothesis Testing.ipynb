{
 "cells": [
  {
   "cell_type": "markdown",
   "id": "a1f52385-bd88-45f4-b8db-a6119f5abf95",
   "metadata": {},
   "source": [
    "### Bombay hospitality Ltd. operates a franchise model for producing exotic Norwegian dinners throughout New England. The operating cost for a franchise in a week (W) is given by the equation W = $1,000 + $5X, where X represents the number of units produced in a week. Recent feedback from restaurant owners suggests that this cost model may no longer be accurate, as their observed weekly operating costs are higher."
   ]
  },
  {
   "cell_type": "markdown",
   "id": "e4774729-5482-42de-922f-7ba0d1a99696",
   "metadata": {},
   "source": [
    "#### Objective: To investigate the restaurant owners' claim about the increase in weekly operating costs using hypothesis testing.\n",
    "##### Use the following formula to calculate the test statistic(z): where:\n",
    "##### ●\tˉxˉ = sample mean weekly cost (Rs. 3,050)\n",
    "##### ●\tμ = theoretical mean weekly cost according to the cost model (W = $1,000 + $5X for X = 600 units)\n",
    "##### ●\tσ = 5*25 units\n",
    "##### ●\tn = sample size (25 restaurants)\n",
    "##### Using the alpha level of 5% (α = 0.05)"
   ]
  },
  {
   "cell_type": "code",
   "execution_count": 27,
   "id": "895d4147-8dd8-42f6-89ca-acd3622e86dc",
   "metadata": {},
   "outputs": [],
   "source": [
    "import scipy.stats as stats\n",
    "import numpy as np"
   ]
  },
  {
   "cell_type": "code",
   "execution_count": 23,
   "id": "2900fde5-edfd-40e1-a114-3efc733ff939",
   "metadata": {},
   "outputs": [],
   "source": [
    "x_bar =3050\n",
    "pop_mean = 1000 + (5*600)\n",
    "sigma = 125\n",
    "n = 25\n",
    "alpha = 0.05"
   ]
  },
  {
   "cell_type": "code",
   "execution_count": 25,
   "id": "7b7178b1-0ebb-42ac-81c9-b10c2601dcb7",
   "metadata": {},
   "outputs": [
    {
     "data": {
      "text/plain": [
       "np.float64(-38.0)"
      ]
     },
     "execution_count": 25,
     "metadata": {},
     "output_type": "execute_result"
    }
   ],
   "source": [
    "t_stats = (x_bar-pop_mean)/(sigma/np.sqrt(n))\n",
    "t_stats"
   ]
  },
  {
   "cell_type": "code",
   "execution_count": 28,
   "id": "75a3ace0-9fa5-4664-a39a-2c67e3aa0211",
   "metadata": {},
   "outputs": [
    {
     "data": {
      "text/plain": [
       "np.float64(-2.063898561628021)"
      ]
     },
     "execution_count": 28,
     "metadata": {},
     "output_type": "execute_result"
    }
   ],
   "source": [
    "t_critical = stats.t.ppf(0.025,24)\n",
    "t_critical"
   ]
  },
  {
   "cell_type": "code",
   "execution_count": 33,
   "id": "0b277382-ec80-4907-957f-9be3dcba5c1a",
   "metadata": {},
   "outputs": [
    {
     "name": "stdout",
     "output_type": "stream",
     "text": [
      "T stastics:-38.0\n",
      "T critical:-2.063898561628021\n",
      "Fail to reject the null hypothesis (H0). There is not enough evidence to support the claim that the weekly operating costs are higher than the model suggests.\n"
     ]
    }
   ],
   "source": [
    "print(f'T stastics:{t_stats}\\nT critical:{t_critical}')\n",
    "\n",
    "if t_stats > t_critical:\n",
    "    print(\"Reject the null hypothesis (H0). There is strong evidence to support the claim that the weekly operating costs are higher than the model suggests.\")\n",
    "else:\n",
    "    print(\"Fail to reject the null hypothesis (H0). There is not enough evidence to support the claim that the weekly operating costs are higher than the model suggests.\")"
   ]
  },
  {
   "cell_type": "markdown",
   "id": "eda16352-3211-4452-9e74-91baf2cb702c",
   "metadata": {},
   "source": [
    "### Conclusion: Based on the comparison between the test statistic and the critical value, we decide whether to reject the null hypothesis. The detailed results and decision are printed in the output"
   ]
  },
  {
   "cell_type": "code",
   "execution_count": null,
   "id": "6e520bde-9ef9-4e8e-931c-90f519d9d66e",
   "metadata": {},
   "outputs": [],
   "source": []
  },
  {
   "cell_type": "code",
   "execution_count": null,
   "id": "107f0302-b431-4c0c-8407-4799fc731c64",
   "metadata": {},
   "outputs": [],
   "source": []
  }
 ],
 "metadata": {
  "kernelspec": {
   "display_name": "Python 3 (ipykernel)",
   "language": "python",
   "name": "python3"
  },
  "language_info": {
   "codemirror_mode": {
    "name": "ipython",
    "version": 3
   },
   "file_extension": ".py",
   "mimetype": "text/x-python",
   "name": "python",
   "nbconvert_exporter": "python",
   "pygments_lexer": "ipython3",
   "version": "3.13.5"
  }
 },
 "nbformat": 4,
 "nbformat_minor": 5
}
